{
 "cells": [
  {
   "cell_type": "markdown",
   "metadata": {},
   "source": [
    "# NumPy"
   ]
  },
  {
   "cell_type": "markdown",
   "metadata": {},
   "source": [
    "##### This link provide link to compare Matlab and Numpy code :\n",
    "\n",
    "NumPy for Matlab users\n",
    "https://docs.scipy.org/doc/numpy-1.14.0/user/numpy-for-matlab-users.html\n",
    "\n",
    "\n",
    "This has links to compare other tools like Matlab vs R, Matlab vs Python\n",
    "http://mathesaurus.sourceforge.net/\n",
    "\n",
    "Official Numpy.org link:\n",
    "https://numpy.org/devdocs/user/quickstart.html"
   ]
  },
  {
   "cell_type": "code",
   "execution_count": 9,
   "metadata": {},
   "outputs": [
    {
     "name": "stdout",
     "output_type": "stream",
     "text": [
      "[0.25 0.5  0.75 1.   1.  ]\n",
      "a>2\n",
      "[False False  True  True False]\n",
      "\n",
      "[3 4]\n",
      "[3 4]\n",
      "[1 1]\n"
     ]
    },
    {
     "data": {
      "text/plain": [
       "array([1, 1])"
      ]
     },
     "execution_count": 9,
     "metadata": {},
     "output_type": "execute_result"
    }
   ],
   "source": [
    "import numpy as np\n",
    "\n",
    "a = np.array([1,2,3,4,1])\n",
    "b = np.array([2,2,2,2,1])\n",
    "\n",
    "print(a/b**2) # ** squares b\n",
    "print('a>2',a>2,sep='\\n',end='\\n\\n')\n",
    "\n",
    "print(a[a>2])\n",
    "\n",
    "print(a[np.logical_or(a>2,a<1)])\n",
    "\n",
    "print(a[np.logical_and(np.logical_not(a>1),a<2)])\n",
    "\n",
    "a[np.array([ True, False, False, False,  True])]\n",
    "\n",
    "\n",
    "#print(b[np.logical_or(b<2,b>2)])"
   ]
  },
  {
   "cell_type": "markdown",
   "metadata": {},
   "source": [
    "##### NumPy concatenate\n",
    "NumPy’s concatenate function can be used to concatenate two arrays either row-wise or column-wise. Concatenate function can take two or more arrays of the same shape and by default it concatenates row-wise i.e. axis=0. The resulting array after row-wise concatenation is of the shape 6 x 3, i.e. 6 rows and 3 columns."
   ]
  },
  {
   "cell_type": "code",
   "execution_count": 1,
   "metadata": {},
   "outputs": [
    {
     "name": "stdout",
     "output_type": "stream",
     "text": [
      "[1, 2, 3, 4, 10, 1, 1, 2]\n",
      "[[1, 2, 3, 4], [10, 1, 1, 2]]\n",
      "[11  3  4  6]\n",
      "[array([1, 2, 3, 4]), array([10,  1,  1,  2])]\n"
     ]
    },
    {
     "data": {
      "text/plain": [
       "(8,)"
      ]
     },
     "execution_count": 1,
     "metadata": {},
     "output_type": "execute_result"
    }
   ],
   "source": [
    "height = [1,2,3,4]\n",
    "weight = [10,1,1,2]\n",
    "\n",
    "print(height +weight )  #normal array with join both\n",
    "print([height,weight])  #it becomes list of list\n",
    "\n",
    "import numpy as np\n",
    "nph = np.array(height)\n",
    "npw = np.array(weight)\n",
    "\n",
    "print(nph+npw)\n",
    "print([nph, npw])\n",
    "\n",
    "#now using np.concatenate\n",
    "\n",
    "np.concatenate((nph,npw)).shape\n",
    "#print(np.concatenate((nph,npw),axis=0))\n",
    "\n"
   ]
  },
  {
   "cell_type": "markdown",
   "metadata": {},
   "source": [
    "# Numpy - Matrix operations"
   ]
  },
  {
   "cell_type": "code",
   "execution_count": 17,
   "metadata": {},
   "outputs": [
    {
     "name": "stdout",
     "output_type": "stream",
     "text": [
      "[[1. 0. 0.]\n",
      " [0. 1. 0.]\n",
      " [0. 0. 1.]]\n",
      "[ 0  3  6  9 12 15]\n",
      "[[ 0.  3.]\n",
      " [12. 27.]\n",
      " [48. 75.]]\n",
      "<class 'numpy.ndarray'>\n",
      "(3, 2)\n"
     ]
    }
   ],
   "source": [
    "import numpy as np\n",
    "\n",
    "B = np.arange(0,16,3)\n",
    "\n",
    "#A = np.eye(3)\n",
    "#print(A)\n",
    "\n",
    "print(B)\n",
    "\n",
    "B = (B/3*B).reshape(3,2)\n",
    "\n",
    "print(B)\n",
    "\n",
    "print(type(B))\n",
    "\n",
    "print(B.shape)\n",
    "\n"
   ]
  },
  {
   "cell_type": "code",
   "execution_count": 18,
   "metadata": {},
   "outputs": [
    {
     "name": "stdout",
     "output_type": "stream",
     "text": [
      "<class 'numpy.matrix'>\n"
     ]
    }
   ],
   "source": [
    "import numpy as np\n",
    "\n",
    "m = np.matrix('1 2; 3 4')\n",
    "\n",
    "print(type(m))"
   ]
  },
  {
   "cell_type": "markdown",
   "metadata": {},
   "source": [
    "| MATLAB                            | NumPy                                                                           | Notes                                                                                                                                                                                                                                                                   |\n",
    "| --------------------------------- | ------------------------------------------------------------------------------- | ----------------------------------------------------------------------------------------------------------------------------------------------------------------------------------------------------------------------------------------------------------------------- |\n",
    "| `ndims(a)`                        | `ndim(a)` or `a.ndim`                                                           | get the number of dimensions of an array                                                                                                                                                                                                                                |\n",
    "| `numel(a)`                        | `size(a)` or `a.size`                                                           | get the number of elements of an array                                                                                                                                                                                                                                  |\n",
    "| `size(a)`                         | `shape(a)` or `a.shape`                                                         | get the “size” of the matrix                                                                                                                                                                                                                                            |\n",
    "| `size(a,n)`                       | `a.shape[n-1]`                                                                  | get the number of elements of the n-th dimension of array `a`. (Note that MATLAB® uses 1 based indexing while Python uses 0 based indexing, See note [INDEXING](https://docs.scipy.org/doc/numpy-1.14.0/user/numpy-for-matlab-users.html#numpy-for-matlab-users-notes)) |\n",
    "| `[ 1 2 3; 4 5 6 ]`                | `array([[1.,2.,3.], [4.,5.,6.]])`                                               | 2x3 matrix literal                                                                                                                                                                                                                                                      |\n",
    "| `[ a b; c d ]`                    | `vstack([hstack([a,b]), hstack([c,d])])` or `bmat('a b; c d').A`                | construct a matrix from blocks `a`, `b`, `c`, and `d`                                                                                                                                                                                                                   |\n",
    "| `a(end)`                          | `a[-1]`                                                                         | access last element in the 1xn matrix `a`                                                                                                                                                                                                                               |\n",
    "| `a(2,5)`                          | `a[1,4]`                                                                        | access element in second row, fifth column                                                                                                                                                                                                                              |\n",
    "| `a(2,:)`                          | `a[1]` or `a[1,:]`                                                              | entire second row of `a`                                                                                                                                                                                                                                                |\n",
    "| `a(1:5,:)`                        | `a[0:5]` or `a[:5]` or `a[0:5,:]`                                               | the first five rows of `a`                                                                                                                                                                                                                                              |\n",
    "| `a(end-4:end,:)`                  | `a[-5:]`                                                                        | the last five rows of `a`                                                                                                                                                                                                                                               |\n",
    "| `a(1:3,5:9)`                      | `a[0:3][:,4:9]`                                                                 | rows one to three and columns five to nine of `a`. This gives read-only access.                                                                                                                                                                                         |\n",
    "| `a([2,4,5],[1,3])`                | `a[ix_([1,3,4],[0,2])]`                                                         | rows 2,4 and 5 and columns 1 and 3. This allows the matrix to be modified, and doesn’t require a regular slice.                                                                                                                                                         |\n",
    "| `a(3:2:21,:)`                     | `a[ 2:21:2,:]`                                                                  | every other row of `a`, starting with the third and going to the twenty-first                                                                                                                                                                                           |\n",
    "| `a(1:2:end,:)`                    | `a[ ::2,:]`                                                                     | every other row of `a`, starting with the first                                                                                                                                                                                                                         |\n",
    "| `a(end:-1:1,:)` or `flipud(a)`    | `a[ ::-1,:]`                                                                    | `a` with rows in reverse order                                                                                                                                                                                                                                          |\n",
    "| `a([1:end 1],:)`                  | `a[r_[:len(a),0]]`                                                              | `a` with copy of the first row appended to the end                                                                                                                                                                                                                      |\n",
    "| `a.'`                             | `a.transpose()` or `a.T`                                                        | transpose of `a`                                                                                                                                                                                                                                                        |\n",
    "| `a'`                              | `a.conj().transpose()` or `a.conj().T`                                          | conjugate transpose of `a`                                                                                                                                                                                                                                              |\n",
    "| `a * b`                           | `a.dot(b)`                                                                      | matrix multiply                                                                                                                                                                                                                                                         |\n",
    "| `a .* b`                          | `a * b`                                                                         | element-wise multiply                                                                                                                                                                                                                                                   |\n",
    "| `a./b`                            | `a/b`                                                                           | element-wise divide                                                                                                                                                                                                                                                     |\n",
    "| `a.^3`                            | `a**3`                                                                          | element-wise exponentiation                                                                                                                                                                                                                                             |\n",
    "| `(a>0.5)`                         | `(a>0.5)`                                                                       | matrix whose i,jth element is (a\\_ij > 0.5). The Matlab result is an array of 0s and 1s. The NumPy result is an array of the boolean values `False` and `True`.                                                                                                         |\n",
    "| `find(a>0.5)`                     | `nonzero(a>0.5)`                                                                | find the indices where (`a` > 0.5)                                                                                                                                                                                                                                      |\n",
    "| `a(:,find(v>0.5))`                | `a[:,nonzero(v>0.5)[0]]`                                                        | extract the columms of `a` where vector v > 0.5                                                                                                                                                                                                                         |\n",
    "| `a(:,find(v>0.5))`                | `a[:,v.T>0.5]`                                                                  | extract the columms of `a` where column vector v > 0.5                                                                                                                                                                                                                  |\n",
    "| `a(a<0.5)=0`                      | `a[a<0.5]=0`                                                                    | `a` with elements less than 0.5 zeroed out                                                                                                                                                                                                                              |\n",
    "| `a .* (a>0.5)`                    | `a * (a>0.5)`                                                                   | `a` with elements less than 0.5 zeroed out                                                                                                                                                                                                                              |\n",
    "| `a(:) = 3`                        | `a[:] = 3`                                                                      | set all values to the same scalar value                                                                                                                                                                                                                                 |\n",
    "| `y=x`                             | `y = x.copy()`                                                                  | numpy assigns by reference                                                                                                                                                                                                                                              |\n",
    "| `y=x(2,:)`                        | `y = x[1,:].copy()`                                                             | numpy slices are by reference                                                                                                                                                                                                                                           |\n",
    "| `y=x(:)`                          | `y = x.flatten()`                                                               | turn array into vector (note that this forces a copy)                                                                                                                                                                                                                   |\n",
    "| `1:10`                            | `arange(1.,11.)` or `r_[1.:11.]` or `r_[1:10:10j]`                              | create an increasing vector (see note [RANGES](https://docs.scipy.org/doc/numpy-1.14.0/user/numpy-for-matlab-users.html#numpy-for-matlab-users-notes))                                                                                                                  |\n",
    "| `0:9`                             | `arange(10.)` or `r_[:10.]` or `r_[:9:10j]`                                     | create an increasing vector (see note [RANGES](https://docs.scipy.org/doc/numpy-1.14.0/user/numpy-for-matlab-users.html#numpy-for-matlab-users-notes))                                                                                                                  |\n",
    "| `[1:10]'`                         | `arange(1.,11.)[:, newaxis]`                                                    | create a column vector                                                                                                                                                                                                                                                  |\n",
    "| `zeros(3,4)`                      | `zeros((3,4))`                                                                  | 3x4 two-dimensional array full of 64-bit floating point zeros                                                                                                                                                                                                           |\n",
    "| `zeros(3,4,5)`                    | `zeros((3,4,5))`                                                                | 3x4x5 three-dimensional array full of 64-bit floating point zeros                                                                                                                                                                                                       |\n",
    "| `ones(3,4)`                       | `ones((3,4))`                                                                   | 3x4 two-dimensional array full of 64-bit floating point ones                                                                                                                                                                                                            |\n",
    "| `eye(3)`                          | `eye(3)`                                                                        | 3x3 identity matrix                                                                                                                                                                                                                                                     |\n",
    "| `diag(a)`                         | `diag(a)`                                                                       | vector of diagonal elements of `a`                                                                                                                                                                                                                                      |\n",
    "| `diag(a,0)`                       | `diag(a,0)`                                                                     | square diagonal matrix whose nonzero values are the elements of `a`                                                                                                                                                                                                     |\n",
    "| `rand(3,4)`                       | `random.rand(3,4)`                                                              | random 3x4 matrix                                                                                                                                                                                                                                                       |\n",
    "| `linspace(1,3,4)`                 | `linspace(1,3,4)`                                                               | 4 equally spaced samples between 1 and 3, inclusive                                                                                                                                                                                                                     |\n",
    "| `[x,y]=meshgrid(0:8,0:5)`         | `mgrid[0:9.,0:6.]` or `meshgrid(r_[0:9.],r_[0:6.]`                              | two 2D arrays: one of x values, the other of y values                                                                                                                                                                                                                   |\n",
    "|                                   | `ogrid[0:9.,0:6.]` or `ix_(r_[0:9.],r_[0:6.]`                                   | the best way to eval functions on a grid                                                                                                                                                                                                                                |\n",
    "| `[x,y]=meshgrid([1,2,4],[2,4,5])` | `meshgrid([1,2,4],[2,4,5])`                                                     |                                                                                                                                                                                                                                                                         |\n",
    "|                                   | `ix_([1,2,4],[2,4,5])`                                                          | the best way to eval functions on a grid                                                                                                                                                                                                                                |\n",
    "| `repmat(a, m, n)`                 | `tile(a, (m, n))`                                                               | create m by n copies of `a`                                                                                                                                                                                                                                             |\n",
    "| `[a b]`                           | `concatenate((a,b),1)` or `hstack((a,b))` or `column_stack((a,b))` or `c_[a,b]` | concatenate columns of `a` and `b`                                                                                                                                                                                                                                      |\n",
    "| `[a; b]`                          | `concatenate((a,b))` or `vstack((a,b))` or `r_[a,b]`                            | concatenate rows of `a` and `b`                                                                                                                                                                                                                                         |\n",
    "| `max(max(a))`                     | `a.max()`                                                                       | maximum element of `a` (with ndims(a)<=2 for matlab)                                                                                                                                                                                                                    |\n",
    "| `max(a)`                          | `a.max(0)`                                                                      | maximum element of each column of matrix `a`                                                                                                                                                                                                                            |\n",
    "| `max(a,[],2)`                     | `a.max(1)`                                                                      | maximum element of each row of matrix `a`                                                                                                                                                                                                                               |\n",
    "| `max(a,b)`                        | `maximum(a, b)`                                                                 | compares `a` and `b` element-wise, and returns the maximum value from each pair                                                                                                                                                                                         |\n",
    "| `norm(v)`                         | `sqrt(dot(v,v))` or `np.linalg.norm(v)`                                         | L2 norm of vector `v`                                                                                                                                                                                                                                                   |\n",
    "| `a & b`                           | `logical_and(a,b)`                                                              | element-by-element AND operator (NumPy ufunc) [See note LOGICOPS](https://docs.scipy.org/doc/numpy-1.14.0/user/numpy-for-matlab-users.html#numpy-for-matlab-users-notes)                                                                                                |\n",
    "| `a | b`                           | `logical_or(a,b)`                                                               | element-by-element OR operator (NumPy ufunc) [See note LOGICOPS](https://docs.scipy.org/doc/numpy-1.14.0/user/numpy-for-matlab-users.html#numpy-for-matlab-users-notes)                                                                                                 |\n",
    "| `bitand(a,b)`                     | `a & b`                                                                         | bitwise AND operator (Python native and NumPy ufunc)                                                                                                                                                                                                                    |\n",
    "| `bitor(a,b)`                      | `a | b`                                                                         | bitwise OR operator (Python native and NumPy ufunc)                                                                                                                                                                                                                     |\n",
    "| `inv(a)`                          | `linalg.inv(a)`                                                                 | inverse of square matrix `a`                                                                                                                                                                                                                                            |\n",
    "| `pinv(a)`                         | `linalg.pinv(a)`                                                                | pseudo-inverse of matrix `a`                                                                                                                                                                                                                                            |\n",
    "| `rank(a)`                         | `linalg.matrix_rank(a)`                                                         | matrix rank of a 2D array / matrix `a`                                                                                                                                                                                                                                  |\n",
    "| `a\\b`                             | `linalg.solve(a,b)` if `a` is square; `linalg.lstsq(a,b)` otherwise             | solution of a x = b for x                                                                                                                                                                                                                                               |\n",
    "| `b/a`                             | Solve a.T x.T = b.T instead                                                     | solution of x a = b for x                                                                                                                                                                                                                                               |\n",
    "| `[U,S,V]=svd(a)`                  | `U, S, Vh = linalg.svd(a), V = Vh.T`                                            | singular value decomposition of `a`                                                                                                                                                                                                                                     |\n",
    "| `chol(a)`                         | `linalg.cholesky(a).T`                                                          | cholesky factorization of a matrix (`chol(a)` in matlab returns an upper triangular matrix, but `linalg.cholesky(a)` returns a lower triangular matrix)                                                                                                                 |\n",
    "| `[V,D]=eig(a)`                    | `D,V = linalg.eig(a)`                                                           | eigenvalues and eigenvectors of `a`                                                                                                                                                                                                                                     |\n",
    "| `[V,D]=eig(a,b)`                  | `V,D = np.linalg.eig(a,b)`                                                      | eigenvalues and eigenvectors of `a`, `b`                                                                                                                                                                                                                                |\n",
    "| `[V,D]=eigs(a,k)`                 |                                                                                 | find the `k` largest eigenvalues and eigenvectors of `a`                                                                                                                                                                                                                |\n",
    "| `[Q,R,P]=qr(a,0)`                 | `Q,R = scipy.linalg.qr(a)`                                                      | QR decomposition                                                                                                                                                                                                                                                        |\n",
    "| `[L,U,P]=lu(a)`                   | `L,U = scipy.linalg.lu(a)` or `LU,P=scipy.linalg.lu_factor(a)`                  | LU decomposition (note: P(Matlab) == transpose(P(numpy)) )                                                                                                                                                                                                              |\n",
    "| `conjgrad`                        | `scipy.sparse.linalg.cg`                                                        | Conjugate gradients solver                                                                                                                                                                                                                                              |\n",
    "| `fft(a)`                          | `fft(a)`                                                                        | Fourier transform of `a`                                                                                                                                                                                                                                                |\n",
    "| `ifft(a)`                         | `ifft(a)`                                                                       | inverse Fourier transform of `a`                                                                                                                                                                                                                                        |\n",
    "| `sort(a)`                         | `sort(a)` or `a.sort()`                                                         | sort the matrix                                                                                                                                                                                                                                                         |\n",
    "| `[b,I] = sortrows(a,i)`           | `I = argsort(a[:,i]), b=a[I,:]`                                                 | sort the rows of the matrix                                                                                                                                                                                                                                             |\n",
    "| `regress(y,X)`                    | `linalg.lstsq(X,y)`                                                             | multilinear regression                                                                                                                                                                                                                                                  |\n",
    "| `decimate(x, q)`                  | `scipy.signal.resample(x, len(x)/q)`                                            | downsample with low-pass filtering                                                                                                                                                                                                                                      |\n",
    "| `unique(a)`                       | `unique(a)`                                                                     |                                                                                                                                                                                                                                                                         |\n",
    "| `squeeze(a)`                      | `a.squeeze()`                                                                   |  "
   ]
  },
  {
   "cell_type": "code",
   "execution_count": 32,
   "metadata": {},
   "outputs": [
    {
     "name": "stdout",
     "output_type": "stream",
     "text": [
      "[6 4]\n",
      "[1, 3.33, 'ax', [4], {8: 'g'}, 9]\n",
      "bbb\n",
      "False\n"
     ]
    }
   ],
   "source": [
    "import numpy as np\n",
    "\n",
    "a = np.array([[1,2,3],[1,1,2]])\n",
    "\n",
    "print(a.sum(axis = 1))\n",
    "\n",
    "bar = [1,3.33,'ax',[4],{8:'g'},(9)]\n",
    "\n",
    "print(bar)\n",
    "print('b'*3)\n",
    "\n",
    "print('5.52'.islower())"
   ]
  },
  {
   "cell_type": "code",
   "execution_count": 35,
   "metadata": {},
   "outputs": [
    {
     "name": "stdout",
     "output_type": "stream",
     "text": [
      "[[ 7  6  7]\n",
      " [ 8 14  7]]\n",
      "[[12 11 12]\n",
      " [13 19 12]]\n",
      "26\n"
     ]
    }
   ],
   "source": [
    "import numpy as np\n",
    "\n",
    "a = np.array([[2,1,2],[3,9,2]])\n",
    "a +=5\n",
    "print(a)\n",
    "b = a+5\n",
    "print(b)\n",
    "print(a[1,2]+b[1,1])"
   ]
  },
  {
   "cell_type": "code",
   "execution_count": 1,
   "metadata": {},
   "outputs": [
    {
     "name": "stdout",
     "output_type": "stream",
     "text": [
      "range(0, 6)\n",
      "0\n",
      "1\n",
      "4\n",
      "9\n",
      "16\n",
      "25\n"
     ]
    }
   ],
   "source": [
    "b = range(6)\n",
    "print(b)\n",
    "\n",
    "for i in b:\n",
    "    print(i*i)"
   ]
  },
  {
   "cell_type": "markdown",
   "metadata": {},
   "source": [
    "### Matrix- and elementwise- multiplication"
   ]
  },
  {
   "cell_type": "markdown",
   "metadata": {},
   "source": [
    "| MATLAB/Octave | Python                  | Description                                                                |\n",
    "| ------------- | ----------------------- | -------------------------------------------------------------------------- |\n",
    "|  |\n",
    "| a .\\* b       | a \\* b or multiply(a,b) | Elementwise operations                                                     |\n",
    "| a \\* b        | matrixmultiply(a,b)     | Matrix product (dot product)                                               |\n",
    "|               | inner(a,b) or           | Inner matrix vector multiplication $a\\\\cdot b'$                            |\n",
    "|               | outer(a,b) or           | Outer product                                                              |\n",
    "| kron(a,b)     | kron(a,b)               | Kronecker product                                                          |\n",
    "| a / b         |                         | Matrix division, $b{\\\\cdot}a^{-1}$                                         |\n",
    "| a \\\\ b        | linalg.solve(a,b)<br>   | Left matrix division, $b^{-1}{\\\\cdot}a$ \\\\newline (solve linear equations) |\n",
    "|               | vdot(a,b)               | Vector dot product                                                         |\n",
    "|               | cross(a,b)              | Cross product                                                              |"
   ]
  },
  {
   "cell_type": "code",
   "execution_count": 62,
   "metadata": {},
   "outputs": [
    {
     "name": "stdout",
     "output_type": "stream",
     "text": [
      "a.*b(in Matlab)  = multiply(a,b) (in python)  = a*b (in python)  [3 2 6]\n",
      "a.dot(b)  =  11\n",
      "a*b.T   = inner(a,b) =  11\n",
      " a@b =  11\n",
      "outer(a,b) = \n",
      "[[3 1 2]\n",
      " [6 2 4]\n",
      " [9 3 6]]\n"
     ]
    }
   ],
   "source": [
    "from numpy import *\n",
    "\n",
    "a=array([1,2,3])\n",
    "b=array([3,1,2])\n",
    "\n",
    "print('a.*b(in Matlab)  = multiply(a,b) (in python)  = a*b (in python) ',a*b) #this is elementwise multiplication\n",
    "\n",
    "# a*b : it is doing elementwise multiplication\n",
    "\n",
    "# a@b / a.dot(b) / inner(a,b) : it is doing inner product or dot product. (It is like a*b' in matlab)\n",
    "\n",
    "# outer(a,b) : it is doing outer product. (it is like a'*b in matlab)\n",
    "\n",
    "print('a.dot(b)  = ', a.dot(b)) #in python, this is inner product or dot product, like a*b in Matlab, \n",
    "\n",
    "print('a*b.T   = inner(a,b) = ', inner(a,b))\n",
    "\n",
    "print(' a@b = ', a@b)\n",
    "print('outer(a,b) = ',  outer(a,b), sep='\\n')  #this is outer product , \n",
    "\n",
    "\n",
    "\n"
   ]
  },
  {
   "cell_type": "code",
   "execution_count": 69,
   "metadata": {},
   "outputs": [
    {
     "name": "stdout",
     "output_type": "stream",
     "text": [
      "a1@a2.T\n",
      "[[12  6]\n",
      " [12  6]]\n",
      "a1.T@a2\n",
      "[[3 3 3]\n",
      " [6 6 6]\n",
      " [9 9 9]]\n",
      "inner product of a1,a2\n",
      "[[12  6]\n",
      " [12  6]]\n"
     ]
    }
   ],
   "source": [
    "from numpy import *\n",
    "\n",
    "\n",
    "a1 = array([[1,2,3],[1,2,3]])\n",
    "a2 = array([[2,2,2],[1,1,1]])\n",
    "\n",
    "print('a1@a2.T',a1@a2.T,sep='\\n')\n",
    "\n",
    "print('a1.T@a2',a1.T@a2,sep='\\n')\n",
    "\n",
    "print('inner product of a1,a2', inner(a1,a2),sep='\\n',)\n",
    "\n",
    "#print('division = ',a1/a2)"
   ]
  }
 ],
 "metadata": {
  "kernelspec": {
   "display_name": "Python 3",
   "language": "python",
   "name": "python3"
  },
  "language_info": {
   "codemirror_mode": {
    "name": "ipython",
    "version": 3
   },
   "file_extension": ".py",
   "mimetype": "text/x-python",
   "name": "python",
   "nbconvert_exporter": "python",
   "pygments_lexer": "ipython3",
   "version": "3.7.4"
  }
 },
 "nbformat": 4,
 "nbformat_minor": 2
}
