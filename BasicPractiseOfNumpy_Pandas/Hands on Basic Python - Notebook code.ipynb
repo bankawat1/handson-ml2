{
 "cells": [
  {
   "cell_type": "markdown",
   "metadata": {},
   "source": [
    "# Python DataTypes\n",
    "        \n",
    "       Float - real numbers\n",
    "       int - integer numbers\n",
    "       str - string,text\n",
    "       bool - True, False\n",
    "       \n",
    "  Note: variables are case sensitive"
   ]
  },
  {
   "cell_type": "code",
   "execution_count": 15,
   "metadata": {},
   "outputs": [
    {
     "name": "stdout",
     "output_type": "stream",
     "text": [
      "['abc', 1, True, 1.23]\n",
      "[[1, 2], ['abc', 'xyz']]\n",
      "[3, 'aaaaa', 3, 'abcd']\n"
     ]
    }
   ],
   "source": [
    "#List\n",
    "#list can store any type\n",
    "#      -4    -3 -2    -1\n",
    "#       0     1  2     3\n",
    "fam = ['abc',1,True,1.23]\n",
    "print(fam)\n",
    "\n",
    "fam = [[1,2],['abc','xyz']]\n",
    "print(fam)\n",
    "fam1 = [1+2,'a'*5,3,'ab'+'cd']\n",
    "print(fam1)"
   ]
  },
  {
   "cell_type": "code",
   "execution_count": 12,
   "metadata": {},
   "outputs": [
    {
     "name": "stdout",
     "output_type": "stream",
     "text": [
      "[1, True]\n",
      "[1, True, 1.23]\n",
      "['abc', 1, True]\n",
      "['abc', 1, True, 1.23]\n"
     ]
    }
   ],
   "source": [
    "#fam[start:end]\n",
    "#start(inclusive):end(exclusive)\n",
    "\n",
    "fam = ['abc',1,True,1.23]\n",
    "\n",
    "print(fam[-3:-1])\n",
    "\n",
    "print(fam[-3:])\n",
    "\n",
    "print(fam[:-1])\n",
    "\n",
    "print(fam[:])\n"
   ]
  },
  {
   "cell_type": "code",
   "execution_count": 13,
   "metadata": {},
   "outputs": [
    {
     "name": "stdout",
     "output_type": "stream",
     "text": [
      "['abc', 1]\n",
      "[1, True, 1.23]\n",
      "['abc', 1, True]\n",
      "['abc', 1, True, 1.23]\n"
     ]
    }
   ],
   "source": [
    "fam = ['abc',1,True,1.23]\n",
    "\n",
    "print(fam[0:2])\n",
    "\n",
    "print(fam[1:])\n",
    "\n",
    "print(fam[:3])\n",
    "\n",
    "print(fam[:])"
   ]
  },
  {
   "cell_type": "code",
   "execution_count": 19,
   "metadata": {},
   "outputs": [
    {
     "name": "stdout",
     "output_type": "stream",
     "text": [
      "abcd\n"
     ]
    },
    {
     "data": {
      "text/plain": [
       "'I said Hey Hey Hey!!'"
      ]
     },
     "execution_count": 19,
     "metadata": {},
     "output_type": "execute_result"
    }
   ],
   "source": [
    "print('ab'+'cd')\n",
    "'I said' + ' Hey'*3 + '!'*2"
   ]
  },
  {
   "cell_type": "code",
   "execution_count": 21,
   "metadata": {},
   "outputs": [
    {
     "name": "stdout",
     "output_type": "stream",
     "text": [
      "2\n",
      "1\n"
     ]
    },
    {
     "data": {
      "text/plain": [
       "0"
      ]
     },
     "execution_count": 21,
     "metadata": {},
     "output_type": "execute_result"
    }
   ],
   "source": [
    "print(True+True)\n",
    "print(True+False)\n",
    "False+False"
   ]
  },
  {
   "cell_type": "markdown",
   "metadata": {},
   "source": []
  },
  {
   "cell_type": "markdown",
   "metadata": {},
   "source": [
    "# List"
   ]
  },
  {
   "cell_type": "code",
   "execution_count": 25,
   "metadata": {},
   "outputs": [],
   "source": [
    "x=[['a','b','c'],['d','e','f'],['g','h','i']]"
   ]
  },
  {
   "cell_type": "code",
   "execution_count": 39,
   "metadata": {},
   "outputs": [
    {
     "name": "stdout",
     "output_type": "stream",
     "text": [
      "g\n",
      "['g', 'h', 'i']\n",
      "['a', 'b', 'c']\n",
      "[['a', 'b', 'c'], ['d', 'e', 'f']]\n",
      "['e', 'f']\n"
     ]
    },
    {
     "data": {
      "text/plain": [
       "['a', 'b', 'c']"
      ]
     },
     "execution_count": 39,
     "metadata": {},
     "output_type": "execute_result"
    }
   ],
   "source": [
    "print(x[2][0])\n",
    "print(x[2][:])\n",
    "print(x[0])\n",
    "print(x[:2])\n",
    "print(x[1][1:])\n",
    "x[:][0]"
   ]
  },
  {
   "cell_type": "code",
   "execution_count": 42,
   "metadata": {},
   "outputs": [
    {
     "data": {
      "text/plain": [
       "'e'"
      ]
     },
     "execution_count": 42,
     "metadata": {},
     "output_type": "execute_result"
    }
   ],
   "source": [
    "#this is three times nested list...\n",
    "x1=[[['a','b','c'],['d','e','f'],['g','h','i']],[['j','k','l'],['m','n','o'],['p','q','r']]]\n",
    "\n",
    "x1[0][1][1]"
   ]
  },
  {
   "cell_type": "code",
   "execution_count": 45,
   "metadata": {},
   "outputs": [
    {
     "data": {
      "text/plain": [
       "['abc', 2, True, 1.23, 1, False, 8.0]"
      ]
     },
     "execution_count": 45,
     "metadata": {},
     "output_type": "execute_result"
    }
   ],
   "source": [
    "fam = ['abc',1,True,1.23]\n",
    "\n",
    "fam[1] = 2\n",
    "\n",
    "fam + [1,False,8.0]  # joining two lists..."
   ]
  },
  {
   "cell_type": "code",
   "execution_count": 46,
   "metadata": {},
   "outputs": [
    {
     "name": "stdout",
     "output_type": "stream",
     "text": [
      "['a', 0, 'c']\n",
      "['a', 0, 'c']\n"
     ]
    }
   ],
   "source": [
    "x=['a','b','c']\n",
    "y=x                    #here y and x are pointing to same location...\n",
    "y[1] = 0\n",
    "print(y)\n",
    "print(x)"
   ]
  },
  {
   "cell_type": "code",
   "execution_count": 52,
   "metadata": {},
   "outputs": [
    {
     "data": {
      "text/plain": [
       "['a', 'b', 'c']"
      ]
     },
     "execution_count": 52,
     "metadata": {},
     "output_type": "execute_result"
    }
   ],
   "source": [
    "x=['a','b','c']\n",
    "\n",
    "del x[1]   #delete item from the list...\n",
    "\n",
    "x.insert(1,'b') # 1 is index at which item is pushed\n",
    "\n"
   ]
  },
  {
   "cell_type": "code",
   "execution_count": 74,
   "metadata": {},
   "outputs": [
    {
     "name": "stdout",
     "output_type": "stream",
     "text": [
      "[1, 2, 'c']\n",
      "[1, 2, 'c']\n"
     ]
    }
   ],
   "source": [
    "x=['a','b','c']\n",
    "x[:2] = [1,2]\n",
    "p = list(x)\n",
    "l = x[:]\n",
    "\n",
    "print(p)\n",
    "print(l)"
   ]
  },
  {
   "cell_type": "markdown",
   "metadata": {},
   "source": []
  },
  {
   "cell_type": "markdown",
   "metadata": {},
   "source": [
    "# List Methods"
   ]
  },
  {
   "cell_type": "code",
   "execution_count": 72,
   "metadata": {},
   "outputs": [
    {
     "name": "stdout",
     "output_type": "stream",
     "text": [
      "['a', 'b', 'c', 'lastItem']\n",
      "['a', 'b', 'c', 'lastItem']\n",
      "1\n",
      "['a', 'b', 'c', 'lastItem', 'a', 'b', 'c', 'lastItem']\n",
      "0\n",
      "['a', 'b', 'c', 'd', 'lastItem', 'a', 'b', 'c', 'lastItem']\n",
      "d\n",
      "['a', 'b', 'c', 'lastItem', 'a', 'b', 'c', 'lastItem']\n",
      "['a', 'c', 'lastItem', 'a', 'b', 'c', 'lastItem']\n",
      "['lastItem', 'c', 'b', 'a', 'lastItem', 'c', 'a']\n",
      "[1, 2, 3, 4, 5, 6, 7]\n",
      "[7, 6, 5, 4, 3, 2, 1]\n",
      "[]\n"
     ]
    },
    {
     "data": {
      "text/plain": [
       "[]"
      ]
     },
     "execution_count": 72,
     "metadata": {},
     "output_type": "execute_result"
    }
   ],
   "source": [
    "x=['a','b','c']\n",
    "\n",
    "x.append('lastItem')  #this line does not return anything but changes x.\n",
    "print(x)\n",
    "\n",
    "xc = x.copy()  #returns shallow copy...\n",
    "print(xc)\n",
    "\n",
    "print(x.count('c'))       #this returns count of c in list...\n",
    "\n",
    "x.extend(xc)       #this Extends list by appending elements from the iterable.\n",
    "print(x)\n",
    "\n",
    "print(x.index('a'))  #Return first index of value.\n",
    "\n",
    "x.insert(3,'d')   #this insert item at specified index...\n",
    "print(x)\n",
    "\n",
    "print(x.pop(3))    #this removes element and return, by default index is last, from specified index.\n",
    "print(x)\n",
    "\n",
    "x.remove('b')   #Remove first occurrence of value.\n",
    "print(x)\n",
    "\n",
    "x.reverse()  #this reverse the list...\n",
    "print(x)\n",
    "\n",
    "\n",
    "y = [7,4,6,5,3,1,2]\n",
    "\n",
    "y.sort()\n",
    "print(y)\n",
    "\n",
    "y.sort(reverse=True)\n",
    "print(y)\n",
    "\n",
    "x.clear()\n",
    "print(x)\n",
    "\n",
    "x\n",
    "\n"
   ]
  },
  {
   "cell_type": "markdown",
   "metadata": {},
   "source": [
    "\n",
    "\n",
    "\n",
    "\n",
    "\n",
    "\n"
   ]
  },
  {
   "cell_type": "markdown",
   "metadata": {},
   "source": [
    "# Functions\n",
    "\n",
    "Functions are like static methods in c#, whereas methods are like instance methods in c#"
   ]
  },
  {
   "cell_type": "code",
   "execution_count": 75,
   "metadata": {},
   "outputs": [
    {
     "data": {
      "text/plain": [
       "list"
      ]
     },
     "execution_count": 75,
     "metadata": {},
     "output_type": "execute_result"
    }
   ],
   "source": [
    "x=[1,2,3]\n",
    "\n",
    "type(x)"
   ]
  },
  {
   "cell_type": "code",
   "execution_count": 77,
   "metadata": {},
   "outputs": [
    {
     "data": {
      "text/plain": [
       "3"
      ]
     },
     "execution_count": 77,
     "metadata": {},
     "output_type": "execute_result"
    }
   ],
   "source": [
    "x=[1,2,3]\n",
    "\n",
    "max(x)"
   ]
  },
  {
   "cell_type": "code",
   "execution_count": 81,
   "metadata": {},
   "outputs": [
    {
     "name": "stdout",
     "output_type": "stream",
     "text": [
      "1.78\n"
     ]
    },
    {
     "data": {
      "text/plain": [
       "2"
      ]
     },
     "execution_count": 81,
     "metadata": {},
     "output_type": "execute_result"
    }
   ],
   "source": [
    "print(round(1.7823423,2))  #this rounds to two decimal places... default is zero\n",
    "\n",
    "round(1.78)"
   ]
  },
  {
   "cell_type": "code",
   "execution_count": 83,
   "metadata": {
    "collapsed": true
   },
   "outputs": [
    {
     "name": "stdout",
     "output_type": "stream",
     "text": [
      "Help on built-in function round in module builtins:\n",
      "\n",
      "round(number, ndigits=None)\n",
      "    Round a number to a given precision in decimal digits.\n",
      "    \n",
      "    The return value is an integer if ndigits is omitted or None.  Otherwise\n",
      "    the return value has the same type as the number.  ndigits may be negative.\n",
      "\n"
     ]
    }
   ],
   "source": [
    "help(round)\n"
   ]
  },
  {
   "cell_type": "markdown",
   "metadata": {},
   "source": [
    "##### Other important functions\n",
    "\n",
    " print() \n",
    " type()\n",
    " str()\n",
    " int()\n",
    " bool()\n",
    " float()\n",
    " sorted([1,2,3],reverse=True)\n",
    "\n"
   ]
  },
  {
   "cell_type": "code",
   "execution_count": 90,
   "metadata": {},
   "outputs": [
    {
     "name": "stdout",
     "output_type": "stream",
     "text": [
      "2\n",
      "True\n",
      "1.23\n",
      "2343\n",
      "[3, 2, 1]\n"
     ]
    }
   ],
   "source": [
    "print(int('2'))\n",
    "print(bool('True'))\n",
    "print(float('1.23'))\n",
    "print(str(2343))\n",
    "print(sorted([1,2,3],reverse=True))"
   ]
  },
  {
   "cell_type": "markdown",
   "metadata": {},
   "source": [
    "# String Methods"
   ]
  },
  {
   "cell_type": "code",
   "execution_count": 100,
   "metadata": {},
   "outputs": [
    {
     "name": "stdout",
     "output_type": "stream",
     "text": [
      "Liza\n",
      "lisa\n",
      "liza\n"
     ]
    }
   ],
   "source": [
    "sister = 'liza'\n",
    "print(sister.capitalize())   # since string is immutable array, it is creating new string array everytime string is changed.\n",
    "\n",
    "s1 = sister.replace('z','s')\n",
    "print(s1)\n",
    "\n",
    "print(sister)"
   ]
  },
  {
   "cell_type": "markdown",
   "metadata": {},
   "source": [
    "# print function"
   ]
  },
  {
   "cell_type": "markdown",
   "metadata": {},
   "source": [
    "print(value1, ..., sep=' ', end='\\n', file=sys.stdout, flush=False)\n",
    "\n",
    "For more details, refer to this link:\n",
    "https://www.python-course.eu/python3_print.php"
   ]
  },
  {
   "cell_type": "code",
   "execution_count": 105,
   "metadata": {},
   "outputs": [
    {
     "name": "stdout",
     "output_type": "stream",
     "text": [
      "a = #12#b = #100#c = #200 ==>sample\n"
     ]
    }
   ],
   "source": [
    "print('a = ',12,'b = ', 100,'c = ',200,sep='#',end=' ==>')\n",
    "print('sample')"
   ]
  },
  {
   "cell_type": "code",
   "execution_count": null,
   "metadata": {},
   "outputs": [],
   "source": []
  },
  {
   "cell_type": "code",
   "execution_count": null,
   "metadata": {},
   "outputs": [],
   "source": []
  },
  {
   "cell_type": "code",
   "execution_count": null,
   "metadata": {},
   "outputs": [],
   "source": []
  }
 ],
 "metadata": {
  "kernelspec": {
   "display_name": "Python 3",
   "language": "python",
   "name": "python3"
  },
  "language_info": {
   "codemirror_mode": {
    "name": "ipython",
    "version": 3
   },
   "file_extension": ".py",
   "mimetype": "text/x-python",
   "name": "python",
   "nbconvert_exporter": "python",
   "pygments_lexer": "ipython3",
   "version": "3.7.4"
  }
 },
 "nbformat": 4,
 "nbformat_minor": 2
}
