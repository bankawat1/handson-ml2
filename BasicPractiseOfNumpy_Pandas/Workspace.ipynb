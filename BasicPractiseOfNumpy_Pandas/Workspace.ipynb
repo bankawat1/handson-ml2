{
 "cells": [
  {
   "cell_type": "code",
   "execution_count": 3,
   "metadata": {},
   "outputs": [
    {
     "ename": "NameError",
     "evalue": "name 'ipython' is not defined",
     "output_type": "error",
     "traceback": [
      "\u001b[1;31m---------------------------------------------------------------------------\u001b[0m",
      "\u001b[1;31mNameError\u001b[0m                                 Traceback (most recent call last)",
      "\u001b[1;32m<ipython-input-3-9fb09de46c8f>\u001b[0m in \u001b[0;36m<module>\u001b[1;34m\u001b[0m\n\u001b[1;32m----> 1\u001b[1;33m \u001b[0mipython\u001b[0m \u001b[1;33m-\u001b[0m\u001b[0mpylab\u001b[0m\u001b[1;33m\u001b[0m\u001b[1;33m\u001b[0m\u001b[0m\n\u001b[0m",
      "\u001b[1;31mNameError\u001b[0m: name 'ipython' is not defined"
     ]
    }
   ],
   "source": [
    "ipython -pylab"
   ]
  },
  {
   "cell_type": "markdown",
   "metadata": {},
   "source": [
    "| MATLAB      | NumPy                   | Notes                                                                                                                                                                                                                                                                   |\n",
    "| ----------- | ----------------------- | ----------------------------------------------------------------------------------------------------------------------------------------------------------------------------------------------------------------------------------------------------------------------- |\n",
    "| `ndims(a)`  | `ndim(a)` or `a.ndim`   | get the number of dimensions of an array                                                                                                                                                                                                                                |\n",
    "| `numel(a)`  | `size(a)` or `a.size`   | get the number of elements of an array                                                                                                                                                                                                                                  |\n",
    "| `size(a)`   | `shape(a)` or `a.shape` | get the “size” of the matrix                                                                                                                                                                                                                                            |\n",
    "| `size(a,n)` | `a.shape[n-1]`          | get the number of elements of the n-th dimension of array `a`. (Note that MATLAB® uses 1 based indexing while Python uses 0 based indexing, See note [INDEXING](https://docs.scipy.org/doc/numpy-1.14.0/user/numpy-for-matlab-users.html#numpy-for-matlab-users-notes)) |"
   ]
  },
  {
   "cell_type": "markdown",
   "metadata": {},
   "source": [
    "| MATLAB      | NumPy                   | Notes                                                                                                                                                                                                                                                                   |\n",
    "| ---------------- | --------------------------------- | ------------------------------------------ |\n",
    "| `a(2,5)`         | `a[1,4]`                          | access element in second row, fifth column |\n",
    "| `a(2,:)`         | `a[1]` or `a[1,:]`                | entire second row of `a`                   |\n",
    "| `a(1:5,:)`       | `a[0:5]` or `a[:5]` or `a[0:5,:]` | the first five rows of `a`                 |\n",
    "| MATLAB      | NumPy                   | Notes                                                                                                                                                                                                                                                                   |\n",
    "| ---------------- | --------------------------------- | ------------------------------------------ |\n",
    "| `a(end-4:end,:)` | `a[-5:]`                          | the last five rows of `a`                  |"
   ]
  }
 ],
 "metadata": {
  "kernelspec": {
   "display_name": "Python 3",
   "language": "python",
   "name": "python3"
  },
  "language_info": {
   "codemirror_mode": {
    "name": "ipython",
    "version": 3
   },
   "file_extension": ".py",
   "mimetype": "text/x-python",
   "name": "python",
   "nbconvert_exporter": "python",
   "pygments_lexer": "ipython3",
   "version": "3.7.4"
  }
 },
 "nbformat": 4,
 "nbformat_minor": 2
}
